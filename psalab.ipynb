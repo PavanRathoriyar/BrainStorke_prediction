{
  "nbformat": 4,
  "nbformat_minor": 0,
  "metadata": {
    "colab": {
      "name": "psalab.ipynb",
      "provenance": [],
      "collapsed_sections": []
    },
    "kernelspec": {
      "name": "python3",
      "display_name": "Python 3"
    },
    "language_info": {
      "name": "python"
    }
  },
  "cells": [
    {
      "cell_type": "code",
      "metadata": {
        "colab": {
          "base_uri": "https://localhost:8080/"
        },
        "id": "w__84y96ayby",
        "outputId": "2f7abf67-c7c3-446a-e525-6a0f04a64d94"
      },
      "source": [
        "!pip install pyspark"
      ],
      "execution_count": 64,
      "outputs": [
        {
          "output_type": "stream",
          "text": [
            "Requirement already satisfied: pyspark in /usr/local/lib/python3.7/dist-packages (3.1.1)\n",
            "Requirement already satisfied: py4j==0.10.9 in /usr/local/lib/python3.7/dist-packages (from pyspark) (0.10.9)\n"
          ],
          "name": "stdout"
        }
      ]
    },
    {
      "cell_type": "code",
      "metadata": {
        "colab": {
          "base_uri": "https://localhost:8080/"
        },
        "id": "KJpo50KwUjoY",
        "outputId": "95d562b0-f132-4d6b-96c3-0257f4ce36d9"
      },
      "source": [
        "from google.colab import drive\n",
        "drive.mount('/content/drive')"
      ],
      "execution_count": 65,
      "outputs": [
        {
          "output_type": "stream",
          "text": [
            "Drive already mounted at /content/drive; to attempt to forcibly remount, call drive.mount(\"/content/drive\", force_remount=True).\n"
          ],
          "name": "stdout"
        }
      ]
    },
    {
      "cell_type": "code",
      "metadata": {
        "id": "tkySYZLuOPzF"
      },
      "source": [
        "from pyspark.sql import SparkSession\n",
        "\n",
        "spark = SparkSession.builder\\\n",
        "        .master(\"local\")\\\n",
        "        .appName(\"Colab\")\\\n",
        "        .config('spark.ui.port', '4050')\\\n",
        "        .getOrCreate()"
      ],
      "execution_count": 66,
      "outputs": []
    },
    {
      "cell_type": "code",
      "metadata": {
        "id": "qOaPZSfaOuWi",
        "colab": {
          "base_uri": "https://localhost:8080/"
        },
        "outputId": "5a4162f9-65d3-4ba2-f7a3-231be4e61d73"
      },
      "source": [
        "df = spark.read.csv(\"/content/drive/MyDrive/stroke_data.csv\", header=True, inferSchema=True)\n",
        "df.show(15)"
      ],
      "execution_count": 67,
      "outputs": [
        {
          "output_type": "stream",
          "text": [
            "+------+----+--------+------------+------+-------------+---------------+-----+\n",
            "|gender| age|diabetes|hypertension|stroke|heart disease|smoking history|  BMI|\n",
            "+------+----+--------+------------+------+-------------+---------------+-----+\n",
            "|Female|80.0|       0|           0|     0|            1|          never|25.19|\n",
            "|Female|54.0|       0|           0|     0|            0|           null| null|\n",
            "|  Male|28.0|       0|           0|     0|            0|          never| null|\n",
            "|Female|36.0|       0|           0|     0|            0|        current|23.45|\n",
            "|  Male|76.0|       0|           1|     0|            1|        current|20.14|\n",
            "|Female|20.0|       0|           0|     0|            0|          never| null|\n",
            "|Female|44.0|       1|           0|     0|            0|          never|19.31|\n",
            "|Female|79.0|       0|           0|     0|            0|           null|23.86|\n",
            "|  Male|42.0|       0|           0|     0|            0|          never|33.64|\n",
            "|Female|32.0|       0|           0|     0|            0|          never| null|\n",
            "|Female|53.0|       0|           0|     0|            0|          never| null|\n",
            "|Female|54.0|       0|           0|     0|            0|         former| 54.7|\n",
            "|Female|78.0|       0|           0|     0|            0|         former|36.05|\n",
            "|Female|67.0|       0|           0|     0|            0|          never|25.69|\n",
            "|Female|76.0|       0|           0|     0|            0|           null| null|\n",
            "+------+----+--------+------------+------+-------------+---------------+-----+\n",
            "only showing top 15 rows\n",
            "\n"
          ],
          "name": "stdout"
        }
      ]
    },
    {
      "cell_type": "code",
      "metadata": {
        "colab": {
          "base_uri": "https://localhost:8080/"
        },
        "id": "6vCOsc7zO2gj",
        "outputId": "54bc22f0-e44b-4f4a-fe85-691abd537ea4"
      },
      "source": [
        "#to show the data type of each column\n",
        "df.printSchema()"
      ],
      "execution_count": 68,
      "outputs": [
        {
          "output_type": "stream",
          "text": [
            "root\n",
            " |-- gender: string (nullable = true)\n",
            " |-- age: double (nullable = true)\n",
            " |-- diabetes: integer (nullable = true)\n",
            " |-- hypertension: integer (nullable = true)\n",
            " |-- stroke: integer (nullable = true)\n",
            " |-- heart disease: integer (nullable = true)\n",
            " |-- smoking history: string (nullable = true)\n",
            " |-- BMI: double (nullable = true)\n",
            "\n"
          ],
          "name": "stdout"
        }
      ]
    },
    {
      "cell_type": "code",
      "metadata": {
        "id": "C8AwIUAoTcJg"
      },
      "source": [
        "#importing all required libraries\n",
        "import pandas as pd\n",
        "import numpy as np\n",
        "import matplotlib.pyplot as plt\n",
        "import seaborn as sns\n",
        "from pylab import rcParams\n",
        "from sklearn.preprocessing import LabelEncoder\n",
        "from pyspark.ml.classification import DecisionTreeClassifier, RandomForestClassifier, LogisticRegression, GBTClassifier\n",
        "from pyspark.ml.feature import  VectorAssembler, StringIndexer, VectorIndexer\n",
        "from pyspark.sql.functions import * \n",
        "from pyspark.ml.evaluation import MulticlassClassificationEvaluator, BinaryClassificationEvaluator\n",
        "from pyspark.sql import SparkSession\n",
        "from pyspark.context import SparkContext\n",
        "from pyspark.ml import Pipeline\n",
        "#from sklearn.impute import KNNImputer\n",
        "from sklearn.model_selection import train_test_split\n",
        "from imblearn.over_sampling import SMOTE, ADASYN\n",
        "from imblearn.combine import SMOTEENN,  SMOTETomek\n",
        "from pyspark.ml.linalg import Vectors\n",
        "from imblearn.under_sampling import TomekLinks\n",
        "from imblearn.under_sampling import RandomUnderSampler, EditedNearestNeighbours\n",
        "from imblearn.under_sampling import OneSidedSelection, NeighbourhoodCleaningRule\n",
        "from pyspark.mllib.tree import GradientBoostedTrees\n",
        "import warnings\n",
        "warnings.filterwarnings('ignore')\n"
      ],
      "execution_count": 69,
      "outputs": []
    },
    {
      "cell_type": "code",
      "metadata": {
        "id": "VYtFAaijUhMW"
      },
      "source": [
        "spark = SparkSession.builder.appName('strroke').getOrCreate()"
      ],
      "execution_count": 70,
      "outputs": []
    },
    {
      "cell_type": "code",
      "metadata": {
        "colab": {
          "base_uri": "https://localhost:8080/"
        },
        "id": "X1WEdD_NYo6x",
        "outputId": "38f26119-1b62-4bd3-eb21-611154c772f7"
      },
      "source": [
        "df.groupBy(df['stroke']).count().show()\n",
        "#1 represent the stroke\n",
        "#0 represent the non-stroke"
      ],
      "execution_count": 71,
      "outputs": [
        {
          "output_type": "stream",
          "text": [
            "+------+-----+\n",
            "|stroke|count|\n",
            "+------+-----+\n",
            "|     1| 1426|\n",
            "|     0|98574|\n",
            "+------+-----+\n",
            "\n"
          ],
          "name": "stdout"
        }
      ]
    },
    {
      "cell_type": "code",
      "metadata": {
        "id": "ljRkb01pX9n6"
      },
      "source": [
        "df_pd = df.toPandas()"
      ],
      "execution_count": 72,
      "outputs": []
    },
    {
      "cell_type": "code",
      "metadata": {
        "colab": {
          "base_uri": "https://localhost:8080/",
          "height": 513
        },
        "id": "iSdxHKtMUoY_",
        "outputId": "65b2e509-263f-4dee-83c4-d023ae8d9194"
      },
      "source": [
        "#plot class distribution\n",
        "plt.title(\"Number of instances per Class\")\n",
        "sns.countplot(df_pd.stroke);\n",
        "plt.show()\n",
        "\n"
      ],
      "execution_count": 73,
      "outputs": [
        {
          "output_type": "display_data",
          "data": {
            "image/png": "[encoded data removed]",
            "text/plain": [
              "<Figure size 864x576 with 1 Axes>"
            ]
          },
          "metadata": {
            "tags": [],
            "needs_background": "light"
          }
        }
      ]
    },
    {
      "cell_type": "code",
      "metadata": {
        "colab": {
          "base_uri": "https://localhost:8080/"
        },
        "id": "JXeLdsLhpbOB",
        "outputId": "5f57d60d-2524-4e8f-9501-d6be1cb22761"
      },
      "source": [
        "#to check the null values\n",
        "df.select([count(when(isnull(c), c)).alias(c) for c in df.columns]).show()"
      ],
      "execution_count": 74,
      "outputs": [
        {
          "output_type": "stream",
          "text": [
            "+------+---+--------+------------+------+-------------+---------------+-----+\n",
            "|gender|age|diabetes|hypertension|stroke|heart disease|smoking history|  BMI|\n",
            "+------+---+--------+------------+------+-------------+---------------+-----+\n",
            "|     0|  0|       0|           0|     0|            0|          35816|25444|\n",
            "+------+---+--------+------------+------+-------------+---------------+-----+\n",
            "\n"
          ],
          "name": "stdout"
        }
      ]
    },
    {
      "cell_type": "code",
      "metadata": {
        "id": "ArIWaieWU24-"
      },
      "source": [
        "# impute BMI null records using BMI Distribution by Age Calculator for the United States\n",
        "#reference: https://dqydj.com/bmi-distribution-by-age-calculator-for-the-united-states/\n",
        "\n",
        "df_2 = df_pd[(df_pd['age']>=2) & (df_pd['age']<=3)]\n",
        "value = {'BMI': 16.5}\n",
        "df_2 = df_2.fillna(value = value)\n",
        "\n",
        "df_4 = df_pd[(df_pd['age']>=4) & (df_pd['age']<=5)]\n",
        "value = {'BMI': 16.5}\n",
        "df_4 = df_4.fillna(value = value)\n",
        "\n",
        "df_6 = df_pd[(df_pd['age']>=6) & (df_pd['age']<=7)]\n",
        "value = {'BMI': 17.2}\n",
        "df_6 = df_6.fillna(value = value)\n",
        "\n",
        "df_8 = df_pd[(df_pd['age']>=8) & (df_pd['age']<=9)]\n",
        "value = {'BMI': 18.3}\n",
        "df_8 = df_8.fillna(value = value)\n",
        "\n",
        "df_10 = df_pd[(df_pd['age']>=10) & (df_pd['age']<=11)]\n",
        "value = {'BMI': 20.2}\n",
        "df_10 = df_10.fillna(value = value)\n",
        "\n",
        "df_12 = df_pd[(df_pd['age']>=12) & (df_pd['age']<=13)]\n",
        "value = {'BMI': 22.0}\n",
        "df_12 = df_12.fillna(value = value)\n",
        "\n",
        "df_14 = df_pd[(df_pd['age']>=14) & (df_pd['age']<=15)]\n",
        "value = {'BMI': 23.4}\n",
        "df_14 = df_14.fillna(value = value)\n",
        "\n",
        "df_16 = df_pd[(df_pd['age']>=16) & (df_pd['age']<=17)]\n",
        "value = {'BMI': 25.3}\n",
        "df_16 = df_16.fillna(value = value)\n",
        "\n",
        "df_18 = df_pd[(df_pd['age']>=18) & (df_pd['age']<=24)]\n",
        "value = {'BMI': 27.1}\n",
        "df_18 = df_18.fillna(value = value)\n",
        "\n",
        "df_25 = df_pd[(df_pd['age']>=25) & (df_pd['age']<=29)]\n",
        "value = {'BMI': 27.9}\n",
        "df_25 = df_25.fillna(value = value)\n",
        "\n",
        "df_30 = df_pd[(df_pd['age']>=30) & (df_pd['age']<=34)]\n",
        "value = {'BMI': 29.6}\n",
        "df_30 = df_30.fillna(value = value)\n",
        "\n",
        "df_35 = df_pd[(df_pd['age']>=35) & (df_pd['age']<=39)]\n",
        "value = {'BMI': 30.2}\n",
        "df_35 = df_35.fillna(value = value)\n",
        "\n",
        "df_40 = df_pd[(df_pd['age']>=40) & (df_pd['age']<=44)]\n",
        "value = {'BMI': 30.1}\n",
        "df_40 = df_40.fillna(value = value)\n",
        "\n",
        "df_45 = df_pd[(df_pd['age']>=45) & (df_pd['age']<=49)]\n",
        "value = {'BMI': 29.7}\n",
        "df_45 = df_45.fillna(value = value)\n",
        "\n",
        "df_50 = df_pd[(df_pd['age']>=50) & (df_pd['age']<=54)]\n",
        "value = {'BMI': 30.1}\n",
        "df_50 = df_50.fillna(value = value)\n",
        "\n",
        "df_55 = df_pd[(df_pd['age']>=55) & (df_pd['age']<=59)]\n",
        "value = {'BMI': 29.8}\n",
        "df_55 = df_55.fillna(value = value)\n",
        "\n",
        "df_60 = df_pd[(df_pd['age']>=60) & (df_pd['age']<=64)]\n",
        "value = {'BMI': 30.5}\n",
        "df_60 = df_60.fillna(value = value)\n",
        "\n",
        "df_65 = df_pd[(df_pd['age']>=65) & (df_pd['age']<=69)]\n",
        "value = {'BMI': 30.0}\n",
        "df_65 = df_65.fillna(value = value)\n",
        "\n",
        "df_70 = df_pd[(df_pd['age']>=70) & (df_pd['age']<=74)]\n",
        "value = {'BMI': 29.8}\n",
        "df_70 = df_70.fillna(value = value)\n",
        "\n",
        "df_75 = df_pd[(df_pd['age']>=75)]\n",
        "value = {'BMI': 28.1}\n",
        "df_75 = df_75.fillna(value = value)\n",
        "\n",
        "\n",
        "all_frames = [df_2, df_4, df_6, df_8, df_10, df_12, df_14, df_16, df_18, df_25, df_30, df_35, df_40, df_45, df_50, df_55, df_60, df_65, df_70, df_75]\n",
        "\n",
        "df_combined = pd.concat(all_frames)"
      ],
      "execution_count": 75,
      "outputs": []
    },
    {
      "cell_type": "code",
      "metadata": {
        "colab": {
          "base_uri": "https://localhost:8080/"
        },
        "id": "InVSiMuiVCQV",
        "outputId": "615b6d01-e19f-4afa-8a1d-9fff01d73f94"
      },
      "source": [
        "\n",
        "df_combined = df_combined.dropna()\n",
        "\n",
        "df_combined.info()\n",
        "\n"
      ],
      "execution_count": 76,
      "outputs": [
        {
          "output_type": "stream",
          "text": [
            "<class 'pandas.core.frame.DataFrame'>\n",
            "Int64Index: 64024 entries, 347 to 99982\n",
            "Data columns (total 8 columns):\n",
            " #   Column           Non-Null Count  Dtype  \n",
            "---  ------           --------------  -----  \n",
            " 0   gender           64024 non-null  object \n",
            " 1   age              64024 non-null  float64\n",
            " 2   diabetes         64024 non-null  int32  \n",
            " 3   hypertension     64024 non-null  int32  \n",
            " 4   stroke           64024 non-null  int32  \n",
            " 5   heart disease    64024 non-null  int32  \n",
            " 6   smoking history  64024 non-null  object \n",
            " 7   BMI              64024 non-null  float64\n",
            "dtypes: float64(2), int32(4), object(2)\n",
            "memory usage: 3.4+ MB\n"
          ],
          "name": "stdout"
        }
      ]
    },
    {
      "cell_type": "code",
      "metadata": {
        "colab": {
          "base_uri": "https://localhost:8080/"
        },
        "id": "kDUBSCitU7-l",
        "outputId": "8fe3460f-148a-46f7-def7-0e29ef734651"
      },
      "source": [
        "\n",
        "df_combined['stroke'].value_counts()"
      ],
      "execution_count": 77,
      "outputs": [
        {
          "output_type": "execute_result",
          "data": {
            "text/plain": [
              "0    62912\n",
              "1     1112\n",
              "Name: stroke, dtype: int64"
            ]
          },
          "metadata": {
            "tags": []
          },
          "execution_count": 77
        }
      ]
    },
    {
      "cell_type": "code",
      "metadata": {
        "colab": {
          "base_uri": "https://localhost:8080/"
        },
        "id": "iAnT3wVYcYN_",
        "outputId": "33f373b0-de2c-4240-88f9-7ed9e4a1be59"
      },
      "source": [
        "df_combined[\"smoking history\"].value_counts()"
      ],
      "execution_count": 78,
      "outputs": [
        {
          "output_type": "execute_result",
          "data": {
            "text/plain": [
              "never          34957\n",
              "former          9352\n",
              "current         9281\n",
              "not current     6430\n",
              "ever            4004\n",
              "Name: smoking history, dtype: int64"
            ]
          },
          "metadata": {
            "tags": []
          },
          "execution_count": 78
        }
      ]
    },
    {
      "cell_type": "code",
      "metadata": {
        "id": "gxC3z1ZcVImU",
        "colab": {
          "base_uri": "https://localhost:8080/"
        },
        "outputId": "4be1eb26-16e4-41fc-99d4-dd65aa6483e3"
      },
      "source": [
        "categorical_cols = ['gender', 'smoking history']\n",
        "# instantiate labelencoder object\n",
        "le = LabelEncoder()\n",
        "\n",
        "# apply le on categorical feature columns\n",
        "df_combined[categorical_cols] = df_combined[categorical_cols].apply(lambda col: le.fit_transform(col))\n",
        "df_combined[categorical_cols].head(10)\n",
        "\n",
        "#casting age to int\n",
        "df_combined['age'] = df_combined['age'].astype('int32')\n",
        "df_combined.info()\n"
      ],
      "execution_count": 79,
      "outputs": [
        {
          "output_type": "stream",
          "text": [
            "<class 'pandas.core.frame.DataFrame'>\n",
            "Int64Index: 64024 entries, 347 to 99982\n",
            "Data columns (total 8 columns):\n",
            " #   Column           Non-Null Count  Dtype  \n",
            "---  ------           --------------  -----  \n",
            " 0   gender           64024 non-null  int64  \n",
            " 1   age              64024 non-null  int32  \n",
            " 2   diabetes         64024 non-null  int32  \n",
            " 3   hypertension     64024 non-null  int32  \n",
            " 4   stroke           64024 non-null  int32  \n",
            " 5   heart disease    64024 non-null  int32  \n",
            " 6   smoking history  64024 non-null  int64  \n",
            " 7   BMI              64024 non-null  float64\n",
            "dtypes: float64(1), int32(5), int64(2)\n",
            "memory usage: 3.2 MB\n"
          ],
          "name": "stdout"
        }
      ]
    },
    {
      "cell_type": "code",
      "metadata": {
        "colab": {
          "base_uri": "https://localhost:8080/"
        },
        "id": "A-iCsZe1VRy1",
        "outputId": "d7d6cf46-c1d8-4b12-c235-e49bf4db72ec"
      },
      "source": [
        "# X is independent varaibles\n",
        "# whereas Y is dependent varaible\n",
        "X = df_combined.filter(items=['gender', 'age', 'diabetes', 'hypertension', 'heart disease', 'smoking history', 'BMI'])\n",
        "Y = df_combined.filter(items=['stroke'])\n",
        "\n",
        "#split data into trainining and testing  where training data is 80% and remaining is testing data\n",
        "X_train, X_test, Y_train, Y_test = train_test_split(X, Y, test_size=0.2, random_state=7)\n",
        "\n",
        "#undersampling\n",
        "sm = EditedNearestNeighbours(n_neighbors=3)\n",
        "X_train_sam, Y_train_sam = sm.fit_sample(X_train, Y_train)\n",
        "\n",
        "#oversampling\n",
        "sm = SMOTE()\n",
        "X_train_sam, Y_train_sam = sm.fit_sample(X_train_sam, Y_train_sam)\n",
        "\n",
        "df_X_train_sam = pd.DataFrame(X_train_sam,columns=['gender', 'age', 'diabetes', 'hypertension', 'heart disease', 'smoking history', 'BMI'])\n",
        "df_Y_train_sam = pd.DataFrame(Y_train_sam, columns = ['stroke'])\n",
        "\n",
        "\n",
        "#combine processed sample \n",
        "df_combine_sam = df_X_train_sam.combine_first(df_Y_train_sam)\n",
        "df_combine_test = X_test.combine_first(Y_test)\n",
        "\n",
        "df_combine_sam['stroke'].value_counts()"
      ],
      "execution_count": 80,
      "outputs": [
        {
          "output_type": "execute_result",
          "data": {
            "text/plain": [
              "1.0    48285\n",
              "0.0    48285\n",
              "Name: stroke, dtype: int64"
            ]
          },
          "metadata": {
            "tags": []
          },
          "execution_count": 80
        }
      ]
    },
    {
      "cell_type": "code",
      "metadata": {
        "colab": {
          "base_uri": "https://localhost:8080/"
        },
        "id": "OinnaIJqhcJr",
        "outputId": "7289abb8-4a3a-44f3-b59d-e6bb574497fe"
      },
      "source": [
        "df_combine_sam.info()"
      ],
      "execution_count": 81,
      "outputs": [
        {
          "output_type": "stream",
          "text": [
            "<class 'pandas.core.frame.DataFrame'>\n",
            "RangeIndex: 96570 entries, 0 to 96569\n",
            "Data columns (total 8 columns):\n",
            " #   Column           Non-Null Count  Dtype  \n",
            "---  ------           --------------  -----  \n",
            " 0   BMI              96570 non-null  float64\n",
            " 1   age              96570 non-null  float64\n",
            " 2   diabetes         96570 non-null  float64\n",
            " 3   gender           96570 non-null  float64\n",
            " 4   heart disease    96570 non-null  float64\n",
            " 5   hypertension     96570 non-null  float64\n",
            " 6   smoking history  96570 non-null  float64\n",
            " 7   stroke           96570 non-null  float64\n",
            "dtypes: float64(8)\n",
            "memory usage: 5.9 MB\n"
          ],
          "name": "stdout"
        }
      ]
    },
    {
      "cell_type": "code",
      "metadata": {
        "colab": {
          "base_uri": "https://localhost:8080/",
          "height": 513
        },
        "id": "CWPOlG1wVaWD",
        "outputId": "cad9e71e-7ef2-471b-f1c7-4934c7218235"
      },
      "source": [
        "plt.title(\"Number of instances per Class\")\n",
        "sns.countplot(df_combine_sam.stroke);\n",
        "plt.show()"
      ],
      "execution_count": 82,
      "outputs": [
        {
          "output_type": "display_data",
          "data": {
            "image/png": "[encoded data removed]",
            "text/plain": [
              "<Figure size 864x576 with 1 Axes>"
            ]
          },
          "metadata": {
            "tags": [],
            "needs_background": "light"
          }
        }
      ]
    },
    {
      "cell_type": "code",
      "metadata": {
        "id": "qDdlUEwdVgrm"
      },
      "source": [
        "df_combined_converted = spark.createDataFrame(df_combine_sam)\n",
        "df_combined_converted_test = spark.createDataFrame(df_combine_test)"
      ],
      "execution_count": 83,
      "outputs": []
    },
    {
      "cell_type": "code",
      "metadata": {
        "colab": {
          "base_uri": "https://localhost:8080/"
        },
        "id": "QlyF9YoeVkSA",
        "outputId": "59d9c478-86d8-47db-91eb-859e96d2fb28"
      },
      "source": [
        "df_combined_converted.printSchema()"
      ],
      "execution_count": 84,
      "outputs": [
        {
          "output_type": "stream",
          "text": [
            "root\n",
            " |-- BMI: double (nullable = true)\n",
            " |-- age: double (nullable = true)\n",
            " |-- diabetes: double (nullable = true)\n",
            " |-- gender: double (nullable = true)\n",
            " |-- heart disease: double (nullable = true)\n",
            " |-- hypertension: double (nullable = true)\n",
            " |-- smoking history: double (nullable = true)\n",
            " |-- stroke: double (nullable = true)\n",
            "\n"
          ],
          "name": "stdout"
        }
      ]
    },
    {
      "cell_type": "code",
      "metadata": {
        "id": "0C-rxCRSVn4r"
      },
      "source": [
        "from pyspark.ml.feature import  Binarizer, VectorAssembler, StringIndexer, VectorIndexer"
      ],
      "execution_count": 85,
      "outputs": []
    },
    {
      "cell_type": "code",
      "metadata": {
        "id": "4iF0B79nV5eH"
      },
      "source": [
        "featureColumns = ['gender', 'age', 'diabetes', 'hypertension', 'heart disease', 'smoking history', 'BMI']\n",
        "assembler = VectorAssembler(inputCols = featureColumns, outputCol = 'features')\n",
        "df_assembled = assembler.transform(df_combined_converted)\n",
        "df_assembled_test = assembler.transform(df_combined_converted_test)"
      ],
      "execution_count": 86,
      "outputs": []
    },
    {
      "cell_type": "code",
      "metadata": {
        "colab": {
          "base_uri": "https://localhost:8080/"
        },
        "id": "FjqZejrTV-EK",
        "outputId": "b85841fa-7fc4-4321-9fc8-f79ddd48d95a"
      },
      "source": [
        "(trainingData, testData) = (df_assembled, df_assembled_test)\n",
        "print(\"Distribution of Ones and Zeros in trainingData is: \", trainingData.groupBy('stroke').count().take(3))"
      ],
      "execution_count": 87,
      "outputs": [
        {
          "output_type": "stream",
          "text": [
            "Distribution of Ones and Zeros in trainingData is:  [Row(stroke=0.0, count=48285), Row(stroke=1.0, count=48285)]\n"
          ],
          "name": "stdout"
        }
      ]
    },
    {
      "cell_type": "code",
      "metadata": {
        "colab": {
          "base_uri": "https://localhost:8080/"
        },
        "id": "KgRG7n6KdodU",
        "outputId": "68cf8328-ca4c-4b4f-898e-57110c7221af"
      },
      "source": [
        "trainingData.show(5)"
      ],
      "execution_count": 88,
      "outputs": [
        {
          "output_type": "stream",
          "text": [
            "+-----+----+--------+------+-------------+------------+---------------+------+--------------------+\n",
            "|  BMI| age|diabetes|gender|heart disease|hypertension|smoking history|stroke|            features|\n",
            "+-----+----+--------+------+-------------+------------+---------------+------+--------------------+\n",
            "|35.64|66.0|     1.0|   1.0|          0.0|         0.0|            2.0|   0.0|[1.0,66.0,1.0,0.0...|\n",
            "| 30.0|69.0|     1.0|   0.0|          1.0|         1.0|            2.0|   0.0|[0.0,69.0,1.0,1.0...|\n",
            "|33.89|61.0|     0.0|   1.0|          0.0|         0.0|            3.0|   0.0|[1.0,61.0,0.0,0.0...|\n",
            "| 31.5|79.0|     0.0|   0.0|          0.0|         0.0|            3.0|   0.0|(7,[1,5,6],[79.0,...|\n",
            "| 29.6|31.0|     0.0|   1.0|          0.0|         0.0|            1.0|   0.0|[1.0,31.0,0.0,0.0...|\n",
            "+-----+----+--------+------+-------------+------------+---------------+------+--------------------+\n",
            "only showing top 5 rows\n",
            "\n"
          ],
          "name": "stdout"
        }
      ]
    },
    {
      "cell_type": "code",
      "metadata": {
        "colab": {
          "base_uri": "https://localhost:8080/"
        },
        "id": "QMkZosW6d5zn",
        "outputId": "a209885b-ab4c-4ea7-c7e8-a22f0b7a3bbc"
      },
      "source": [
        "testData.show(5)"
      ],
      "execution_count": 89,
      "outputs": [
        {
          "output_type": "stream",
          "text": [
            "+-----+---+--------+------+-------------+------------+---------------+------+--------------------+\n",
            "|  BMI|age|diabetes|gender|heart disease|hypertension|smoking history|stroke|            features|\n",
            "+-----+---+--------+------+-------------+------------+---------------+------+--------------------+\n",
            "|53.13| 29|       0|     1|            0|           0|              0|   0.0|(7,[0,1,6],[1.0,2...|\n",
            "|29.51| 41|       0|     1|            0|           0|              0|   0.0|(7,[0,1,6],[1.0,4...|\n",
            "|30.55| 71|       0|     0|            0|           0|              2|   0.0|(7,[1,5,6],[71.0,...|\n",
            "| 29.7| 47|       0|     1|            0|           0|              3|   0.0|[1.0,47.0,0.0,0.0...|\n",
            "|50.61| 51|       1|     0|            0|           1|              4|   0.0|[0.0,51.0,1.0,1.0...|\n",
            "+-----+---+--------+------+-------------+------------+---------------+------+--------------------+\n",
            "only showing top 5 rows\n",
            "\n"
          ],
          "name": "stdout"
        }
      ]
    },
    {
      "cell_type": "code",
      "metadata": {
        "id": "6hrrnX8aWDfG"
      },
      "source": [
        "#random forest classifier\n",
        "model_rf = RandomForestClassifier(labelCol=\"stroke\", featuresCol=\"features\", numTrees=30,maxDepth=4, impurity='gini', seed=60)\n",
        "pipeline = Pipeline(stages=[model_rf])\n",
        "model = pipeline.fit(trainingData)\n",
        "predictions = model.transform(testData)"
      ],
      "execution_count": 90,
      "outputs": []
    },
    {
      "cell_type": "code",
      "metadata": {
        "colab": {
          "base_uri": "https://localhost:8080/"
        },
        "id": "qgGaFd1mq7QI",
        "outputId": "1d1461ab-3ac7-44d6-e3f5-2ee1c95f32f4"
      },
      "source": [
        "predictions.select(\"BMI\",\"age\",\"diabetes\",\"gender\",\"heart disease\",\"hypertension\",\"smoking history\",\"stroke\",\"features\",\"probability\",\"prediction\").show(5)"
      ],
      "execution_count": 91,
      "outputs": [
        {
          "output_type": "stream",
          "text": [
            "+-----+---+--------+------+-------------+------------+---------------+------+--------------------+--------------------+----------+\n",
            "|  BMI|age|diabetes|gender|heart disease|hypertension|smoking history|stroke|            features|         probability|prediction|\n",
            "+-----+---+--------+------+-------------+------------+---------------+------+--------------------+--------------------+----------+\n",
            "|53.13| 29|       0|     1|            0|           0|              0|   0.0|(7,[0,1,6],[1.0,2...|[0.86059598222628...|       0.0|\n",
            "|29.51| 41|       0|     1|            0|           0|              0|   0.0|(7,[0,1,6],[1.0,4...|[0.86177734533943...|       0.0|\n",
            "|30.55| 71|       0|     0|            0|           0|              2|   0.0|(7,[1,5,6],[71.0,...|[0.55266078055531...|       0.0|\n",
            "| 29.7| 47|       0|     1|            0|           0|              3|   0.0|[1.0,47.0,0.0,0.0...|[0.77397192455751...|       0.0|\n",
            "|50.61| 51|       1|     0|            0|           1|              4|   0.0|[0.0,51.0,1.0,1.0...|[0.56769791302695...|       0.0|\n",
            "+-----+---+--------+------+-------------+------------+---------------+------+--------------------+--------------------+----------+\n",
            "only showing top 5 rows\n",
            "\n"
          ],
          "name": "stdout"
        }
      ]
    },
    {
      "cell_type": "code",
      "metadata": {
        "colab": {
          "base_uri": "https://localhost:8080/"
        },
        "id": "LeWr8rLwsgqL",
        "outputId": "43afe728-0584-4b51-904a-a6ad2b916312"
      },
      "source": [
        "\n",
        "y_true = predictions.select(['stroke']).collect()\n",
        "y_pred = predictions.select(['prediction']).collect()\n",
        "\n",
        "from sklearn.metrics import classification_report, confusion_matrix\n",
        "print(\"confusion metrix for random forest classfication\")\n",
        "print(classification_report(y_true, y_pred))\n",
        "\n",
        "evaluator = BinaryClassificationEvaluator(rawPredictionCol='prediction',labelCol='stroke')\n",
        "RF=evaluator.evaluate(predictions)\n",
        "print('Area Under ROC for Random  Forest classifier', RF)"
      ],
      "execution_count": 92,
      "outputs": [
        {
          "output_type": "stream",
          "text": [
            "confusion metrix for random forest classfication\n",
            "              precision    recall  f1-score   support\n",
            "\n",
            "         0.0       0.99      0.80      0.89     12588\n",
            "         1.0       0.06      0.76      0.11       217\n",
            "\n",
            "    accuracy                           0.80     12805\n",
            "   macro avg       0.53      0.78      0.50     12805\n",
            "weighted avg       0.98      0.80      0.87     12805\n",
            "\n",
            "Area Under ROC for Random  Forest classifier 0.7820356670605756\n"
          ],
          "name": "stdout"
        }
      ]
    },
    {
      "cell_type": "code",
      "metadata": {
        "id": "SvGrn38wWLun"
      },
      "source": [
        "#Gradient Boosting Tree classifier\n",
        "model_rf = GBTClassifier(labelCol=\"stroke\", featuresCol=\"features\", maxIter=10, subsamplingRate=0.8, maxDepth=3, lossType=\"logistic\", stepSize=0.05,seed=60)\n",
        "pipeline = Pipeline(stages=[model_rf])\n",
        "model = pipeline.fit(trainingData)\n",
        "predictions = model.transform(testData)"
      ],
      "execution_count": 93,
      "outputs": []
    },
    {
      "cell_type": "code",
      "metadata": {
        "colab": {
          "base_uri": "https://localhost:8080/"
        },
        "id": "79-NCGl6rNBn",
        "outputId": "f4f5a5c8-f731-47c9-e9a6-853f6a1436a6"
      },
      "source": [
        "predictions.select(\"BMI\",\"age\",\"diabetes\",\"gender\",\"heart disease\",\"hypertension\",\"smoking history\",\"stroke\",\"features\",\"probability\",\"prediction\").show(5)"
      ],
      "execution_count": 94,
      "outputs": [
        {
          "output_type": "stream",
          "text": [
            "+-----+---+--------+------+-------------+------------+---------------+------+--------------------+--------------------+----------+\n",
            "|  BMI|age|diabetes|gender|heart disease|hypertension|smoking history|stroke|            features|         probability|prediction|\n",
            "+-----+---+--------+------+-------------+------------+---------------+------+--------------------+--------------------+----------+\n",
            "|53.13| 29|       0|     1|            0|           0|              0|   0.0|(7,[0,1,6],[1.0,2...|[0.89103613888882...|       0.0|\n",
            "|29.51| 41|       0|     1|            0|           0|              0|   0.0|(7,[0,1,6],[1.0,4...|[0.89103613888882...|       0.0|\n",
            "|30.55| 71|       0|     0|            0|           0|              2|   0.0|(7,[1,5,6],[71.0,...|[0.61376983192740...|       0.0|\n",
            "| 29.7| 47|       0|     1|            0|           0|              3|   0.0|[1.0,47.0,0.0,0.0...|[0.76707170107721...|       0.0|\n",
            "|50.61| 51|       1|     0|            0|           1|              4|   0.0|[0.0,51.0,1.0,1.0...|[0.72082477974952...|       0.0|\n",
            "+-----+---+--------+------+-------------+------------+---------------+------+--------------------+--------------------+----------+\n",
            "only showing top 5 rows\n",
            "\n"
          ],
          "name": "stdout"
        }
      ]
    },
    {
      "cell_type": "code",
      "metadata": {
        "colab": {
          "base_uri": "https://localhost:8080/"
        },
        "id": "6NMNo-A1tqoH",
        "outputId": "157ac713-6033-4325-bd18-a999679af96d"
      },
      "source": [
        "y_true = predictions.select(['stroke']).collect()\n",
        "y_pred = predictions.select(['prediction']).collect()\n",
        "from sklearn.metrics import classification_report, confusion_matrix\n",
        "print(\"confusion metrix for Gradient Boosting Tree classifier\")\n",
        "print(classification_report(y_true, y_pred))\n",
        "\n",
        "evaluator = BinaryClassificationEvaluator(rawPredictionCol='prediction',labelCol='stroke')\n",
        "GBT=evaluator.evaluate(predictions)\n",
        "print(' Area Under ROC for Gradient Boosting Tree Classifier', evaluator.evaluate(predictions))"
      ],
      "execution_count": 95,
      "outputs": [
        {
          "output_type": "stream",
          "text": [
            "confusion metrix for Gradient Boosting Tree classifier\n",
            "              precision    recall  f1-score   support\n",
            "\n",
            "         0.0       0.99      0.85      0.91     12588\n",
            "         1.0       0.07      0.65      0.12       217\n",
            "\n",
            "    accuracy                           0.84     12805\n",
            "   macro avg       0.53      0.75      0.52     12805\n",
            "weighted avg       0.98      0.84      0.90     12805\n",
            "\n",
            " Area Under ROC for Gradient Boosting Tree Classifier 0.7512038749507615\n"
          ],
          "name": "stdout"
        }
      ]
    },
    {
      "cell_type": "code",
      "metadata": {
        "id": "F4tiNxgmkp8C"
      },
      "source": [
        "#Decision Tree  classifier\n",
        "from pyspark.ml.classification import DecisionTreeClassifier\n",
        "model_rf = DecisionTreeClassifier(featuresCol = 'features', labelCol = 'stroke', maxDepth = 3)\n",
        "pipeline = Pipeline(stages=[model_rf])\n",
        "model = pipeline.fit(trainingData)\n",
        "predictions = model.transform(testData)\n"
      ],
      "execution_count": 96,
      "outputs": []
    },
    {
      "cell_type": "code",
      "metadata": {
        "colab": {
          "base_uri": "https://localhost:8080/"
        },
        "id": "AGRiEfkirTpY",
        "outputId": "5e43b156-ae2e-43e5-c2c2-6e0ee1a3253d"
      },
      "source": [
        "predictions.select(\"BMI\",\"age\",\"diabetes\",\"gender\",\"heart disease\",\"hypertension\",\"smoking history\",\"stroke\",\"features\",\"probability\",\"prediction\").show(5)"
      ],
      "execution_count": 97,
      "outputs": [
        {
          "output_type": "stream",
          "text": [
            "+-----+---+--------+------+-------------+------------+---------------+------+--------------------+--------------------+----------+\n",
            "|  BMI|age|diabetes|gender|heart disease|hypertension|smoking history|stroke|            features|         probability|prediction|\n",
            "+-----+---+--------+------+-------------+------------+---------------+------+--------------------+--------------------+----------+\n",
            "|53.13| 29|       0|     1|            0|           0|              0|   0.0|(7,[0,1,6],[1.0,2...|[0.89015597188282...|       0.0|\n",
            "|29.51| 41|       0|     1|            0|           0|              0|   0.0|(7,[0,1,6],[1.0,4...|[0.89015597188282...|       0.0|\n",
            "|30.55| 71|       0|     0|            0|           0|              2|   0.0|(7,[1,5,6],[71.0,...|[0.58516963973417...|       0.0|\n",
            "| 29.7| 47|       0|     1|            0|           0|              3|   0.0|[1.0,47.0,0.0,0.0...|[0.89015597188282...|       0.0|\n",
            "|50.61| 51|       1|     0|            0|           1|              4|   0.0|[0.0,51.0,1.0,1.0...|[0.80098414434117...|       0.0|\n",
            "+-----+---+--------+------+-------------+------------+---------------+------+--------------------+--------------------+----------+\n",
            "only showing top 5 rows\n",
            "\n"
          ],
          "name": "stdout"
        }
      ]
    },
    {
      "cell_type": "code",
      "metadata": {
        "colab": {
          "base_uri": "https://localhost:8080/"
        },
        "id": "ltfISqxbtzRo",
        "outputId": "8c69c7cf-b23e-4858-9bd6-5569f339a43b"
      },
      "source": [
        "y_true = predictions.select(['stroke']).collect()\n",
        "y_pred = predictions.select(['prediction']).collect()\n",
        "from sklearn.metrics import classification_report, confusion_matrix\n",
        "print(\"confusion metrix for Decision Tree  classifier\")\n",
        "print(classification_report(y_true, y_pred))\n",
        "\n",
        "evaluator = BinaryClassificationEvaluator(rawPredictionCol='prediction',labelCol='stroke')\n",
        "DCT=evaluator.evaluate(predictions)\n",
        "print(' Area Under ROC for Decision Tree classifier',DCT)"
      ],
      "execution_count": 98,
      "outputs": [
        {
          "output_type": "stream",
          "text": [
            "confusion metrix for Decision Tree  classifier\n",
            "              precision    recall  f1-score   support\n",
            "\n",
            "         0.0       0.99      0.83      0.90     12588\n",
            "         1.0       0.07      0.70      0.12       217\n",
            "\n",
            "    accuracy                           0.83     12805\n",
            "   macro avg       0.53      0.76      0.51     12805\n",
            "weighted avg       0.98      0.83      0.89     12805\n",
            "\n",
            " Area Under ROC for Decision Tree classifier 0.7622097118314715\n"
          ],
          "name": "stdout"
        }
      ]
    },
    {
      "cell_type": "code",
      "metadata": {
        "id": "6rg2o3wBm-L7"
      },
      "source": [
        "#logistic regression classifier\n",
        "model_rf = LogisticRegression(featuresCol = 'features', labelCol = 'stroke', maxIter=10)\n",
        "pipeline = Pipeline(stages=[model_rf])\n",
        "model = pipeline.fit(trainingData)\n",
        "predictions = model.transform(testData)\n"
      ],
      "execution_count": 99,
      "outputs": []
    },
    {
      "cell_type": "code",
      "metadata": {
        "colab": {
          "base_uri": "https://localhost:8080/"
        },
        "id": "2d_aMGjLpzMr",
        "outputId": "2389eae3-7687-4b67-9025-1daf371e2ebd"
      },
      "source": [
        "predictions.select(\"BMI\",\"age\",\"diabetes\",\"gender\",\"heart disease\",\"hypertension\",\"smoking history\",\"stroke\",\"features\",\"probability\",\"prediction\").show(5)"
      ],
      "execution_count": 100,
      "outputs": [
        {
          "output_type": "stream",
          "text": [
            "+-----+---+--------+------+-------------+------------+---------------+------+--------------------+--------------------+----------+\n",
            "|  BMI|age|diabetes|gender|heart disease|hypertension|smoking history|stroke|            features|         probability|prediction|\n",
            "+-----+---+--------+------+-------------+------------+---------------+------+--------------------+--------------------+----------+\n",
            "|53.13| 29|       0|     1|            0|           0|              0|   0.0|(7,[0,1,6],[1.0,2...|[0.94243647740784...|       0.0|\n",
            "|29.51| 41|       0|     1|            0|           0|              0|   0.0|(7,[0,1,6],[1.0,4...|[0.83897395080040...|       0.0|\n",
            "|30.55| 71|       0|     0|            0|           0|              2|   0.0|(7,[1,5,6],[71.0,...|[0.29596651469667...|       1.0|\n",
            "| 29.7| 47|       0|     1|            0|           0|              3|   0.0|[1.0,47.0,0.0,0.0...|[0.82766846492803...|       0.0|\n",
            "|50.61| 51|       1|     0|            0|           1|              4|   0.0|[0.0,51.0,1.0,1.0...|[0.54861212121585...|       0.0|\n",
            "+-----+---+--------+------+-------------+------------+---------------+------+--------------------+--------------------+----------+\n",
            "only showing top 5 rows\n",
            "\n"
          ],
          "name": "stdout"
        }
      ]
    },
    {
      "cell_type": "code",
      "metadata": {
        "id": "JkESEqOiuAqr",
        "colab": {
          "base_uri": "https://localhost:8080/"
        },
        "outputId": "c23af2cf-1aca-4244-bbc9-009cadbe248d"
      },
      "source": [
        "y_true = predictions.select(['stroke']).collect()\n",
        "y_pred = predictions.select(['prediction']).collect()\n",
        "from sklearn.metrics import classification_report, confusion_matrix\n",
        "print(\"confusion metrix for logistic regression classifier \")\n",
        "print(classification_report(y_true, y_pred))\n",
        "\n",
        "evaluator = BinaryClassificationEvaluator(rawPredictionCol='prediction',labelCol='stroke')\n",
        "LGR=evaluator.evaluate(predictions)\n",
        "print(' Area Under ROC for Logistic regresion', LGR)\n"
      ],
      "execution_count": 101,
      "outputs": [
        {
          "output_type": "stream",
          "text": [
            "confusion metrix for logistic regression classifier \n",
            "              precision    recall  f1-score   support\n",
            "\n",
            "         0.0       1.00      0.74      0.85     12588\n",
            "         1.0       0.05      0.85      0.10       217\n",
            "\n",
            "    accuracy                           0.74     12805\n",
            "   macro avg       0.52      0.79      0.47     12805\n",
            "weighted avg       0.98      0.74      0.84     12805\n",
            "\n",
            " Area Under ROC for Logistic regresion 0.7928461968753797\n"
          ],
          "name": "stdout"
        }
      ]
    },
    {
      "cell_type": "code",
      "metadata": {
        "colab": {
          "base_uri": "https://localhost:8080/",
          "height": 483
        },
        "id": "cd4j_SQfgjVf",
        "outputId": "c1441944-2244-4368-beae-060fca8b64e3"
      },
      "source": [
        "import matplotlib.pyplot as pl\n",
        "import numpy as np\n",
        "\n",
        "y=np.array([RF,GBT,DCT,LGR])  \n",
        "x=np.array([\"RandomForest\",'GradientBoosting','DicisionTree','LogisticRegression'])\n",
        "\n",
        "plt.bar(x,y)\n",
        "plt.show()\n"
      ],
      "execution_count": 102,
      "outputs": [
        {
          "output_type": "display_data",
          "data": {
            "image/png": "[encoded data removed]",
            "text/plain": [
              "<Figure size 864x576 with 1 Axes>"
            ]
          },
          "metadata": {
            "tags": [],
            "needs_background": "light"
          }
        }
      ]
    }
  ]
}